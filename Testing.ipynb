{
 "cells": [
  {
   "cell_type": "markdown",
   "id": "a69831c5",
   "metadata": {},
   "source": [
    "import pandas\n",
    "\n",
    "df1 = pandas.DataFrame([[4,3,2,7],\n",
    "                        [1,12,32,24],\n",
    "                        [10,24,4,455],\n",
    "                        ],\n",
    "                    columns=['a','b','c','d']\n",
    "                        )\n",
    "df1.to_excel('E:/myDataFrame.xlsx', sheet_name='Sheet1')\n",
    "print(df1)"
   ]
  },
  {
   "cell_type": "code",
   "execution_count": 8,
   "id": "b1da7d00",
   "metadata": {},
   "outputs": [
    {
     "name": "stdout",
     "output_type": "stream",
     "text": [
      "    a   b   c    d\n",
      "0   4   3   2    7\n",
      "1   1  12  32   24\n",
      "2  10  24   4  455\n"
     ]
    }
   ],
   "source": [
    "import pandas\n",
    "\n",
    "df1 = pandas.DataFrame([[4,3,2,7],\n",
    "                        [1,12,32,24],\n",
    "                        [10,24,4,455],\n",
    "                        ],\n",
    "                    columns=['a','b','c','d']\n",
    "                        )\n",
    "df1.to_excel('E:/myDataFrame.xlsx', sheet_name='Sheet1')\n",
    "print(df1)"
   ]
  },
  {
   "cell_type": "code",
   "execution_count": null,
   "id": "edbe47bf",
   "metadata": {},
   "outputs": [],
   "source": []
  }
 ],
 "metadata": {
  "kernelspec": {
   "display_name": "Python 3 (ipykernel)",
   "language": "python",
   "name": "python3"
  },
  "language_info": {
   "codemirror_mode": {
    "name": "ipython",
    "version": 3
   },
   "file_extension": ".py",
   "mimetype": "text/x-python",
   "name": "python",
   "nbconvert_exporter": "python",
   "pygments_lexer": "ipython3",
   "version": "3.10.2"
  }
 },
 "nbformat": 4,
 "nbformat_minor": 5
}
